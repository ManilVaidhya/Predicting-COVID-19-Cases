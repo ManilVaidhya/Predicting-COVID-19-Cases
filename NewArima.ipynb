{
 "cells": [
  {
   "cell_type": "code",
   "execution_count": 89,
   "metadata": {},
   "outputs": [],
   "source": [
    "import pandas as pd\n",
    "from matplotlib import pyplot as plt\n",
    "import numpy as np\n",
    "from pmdarima import auto_arima"
   ]
  },
  {
   "cell_type": "code",
   "execution_count": 90,
   "metadata": {},
   "outputs": [],
   "source": [
    "country = \"Maldives\""
   ]
  },
  {
   "cell_type": "code",
   "execution_count": 91,
   "metadata": {},
   "outputs": [],
   "source": [
    "df_confirmed = pd.read_csv(\"death_cases.csv\")\n",
    "df_confirmed_country= df_confirmed[df_confirmed[\"Country/Region\"] == country]\n",
    "df_confirmed_country= pd.DataFrame(df_confirmed_country[df_confirmed_country.columns[1:]].sum(), columns=[\"confirmed\"])\n",
    "df_confirmed_country.index = pd.to_datetime(df_confirmed_country.index,format='%m/%d/%y')"
   ]
  },
  {
   "cell_type": "code",
   "execution_count": 92,
   "metadata": {},
   "outputs": [
    {
     "data": {
      "text/html": [
       "<div>\n",
       "<style scoped>\n",
       "    .dataframe tbody tr th:only-of-type {\n",
       "        vertical-align: middle;\n",
       "    }\n",
       "\n",
       "    .dataframe tbody tr th {\n",
       "        vertical-align: top;\n",
       "    }\n",
       "\n",
       "    .dataframe thead th {\n",
       "        text-align: right;\n",
       "    }\n",
       "</style>\n",
       "<table border=\"1\" class=\"dataframe\">\n",
       "  <thead>\n",
       "    <tr style=\"text-align: right;\">\n",
       "      <th></th>\n",
       "      <th>confirmed</th>\n",
       "    </tr>\n",
       "  </thead>\n",
       "  <tbody>\n",
       "    <tr>\n",
       "      <th>2020-01-22</th>\n",
       "      <td>0</td>\n",
       "    </tr>\n",
       "    <tr>\n",
       "      <th>2020-01-23</th>\n",
       "      <td>0</td>\n",
       "    </tr>\n",
       "    <tr>\n",
       "      <th>2020-01-24</th>\n",
       "      <td>0</td>\n",
       "    </tr>\n",
       "    <tr>\n",
       "      <th>2020-01-25</th>\n",
       "      <td>0</td>\n",
       "    </tr>\n",
       "    <tr>\n",
       "      <th>2020-01-26</th>\n",
       "      <td>0</td>\n",
       "    </tr>\n",
       "    <tr>\n",
       "      <th>...</th>\n",
       "      <td>...</td>\n",
       "    </tr>\n",
       "    <tr>\n",
       "      <th>2020-12-01</th>\n",
       "      <td>47</td>\n",
       "    </tr>\n",
       "    <tr>\n",
       "      <th>2020-12-02</th>\n",
       "      <td>47</td>\n",
       "    </tr>\n",
       "    <tr>\n",
       "      <th>2020-12-03</th>\n",
       "      <td>47</td>\n",
       "    </tr>\n",
       "    <tr>\n",
       "      <th>2020-12-04</th>\n",
       "      <td>47</td>\n",
       "    </tr>\n",
       "    <tr>\n",
       "      <th>2020-12-05</th>\n",
       "      <td>47</td>\n",
       "    </tr>\n",
       "  </tbody>\n",
       "</table>\n",
       "<p>319 rows × 1 columns</p>\n",
       "</div>"
      ],
      "text/plain": [
       "            confirmed\n",
       "2020-01-22          0\n",
       "2020-01-23          0\n",
       "2020-01-24          0\n",
       "2020-01-25          0\n",
       "2020-01-26          0\n",
       "...               ...\n",
       "2020-12-01         47\n",
       "2020-12-02         47\n",
       "2020-12-03         47\n",
       "2020-12-04         47\n",
       "2020-12-05         47\n",
       "\n",
       "[319 rows x 1 columns]"
      ]
     },
     "execution_count": 92,
     "metadata": {},
     "output_type": "execute_result"
    }
   ],
   "source": [
    "df_confirmed_country\n"
   ]
  },
  {
   "cell_type": "code",
   "execution_count": 93,
   "metadata": {},
   "outputs": [
    {
     "data": {
      "text/plain": [
       "DatetimeIndex(['2020-01-22', '2020-01-23', '2020-01-24', '2020-01-25',\n",
       "               '2020-01-26', '2020-01-27', '2020-01-28', '2020-01-29',\n",
       "               '2020-01-30', '2020-01-31',\n",
       "               ...\n",
       "               '2020-11-26', '2020-11-27', '2020-11-28', '2020-11-29',\n",
       "               '2020-11-30', '2020-12-01', '2020-12-02', '2020-12-03',\n",
       "               '2020-12-04', '2020-12-05'],\n",
       "              dtype='datetime64[ns]', length=319, freq=None)"
      ]
     },
     "execution_count": 93,
     "metadata": {},
     "output_type": "execute_result"
    }
   ],
   "source": [
    "df_confirmed_country.index"
   ]
  },
  {
   "cell_type": "code",
   "execution_count": 94,
   "metadata": {},
   "outputs": [
    {
     "data": {
      "text/plain": [
       "<matplotlib.axes._subplots.AxesSubplot at 0x7fcd37c32a50>"
      ]
     },
     "execution_count": 94,
     "metadata": {},
     "output_type": "execute_result"
    },
    {
     "data": {
      "image/png": "[encoded data removed]",
      "text/plain": [
       "<Figure size 432x288 with 1 Axes>"
      ]
     },
     "metadata": {
      "needs_background": "light"
     },
     "output_type": "display_data"
    }
   ],
   "source": [
    "df_confirmed_country['confirmed'].plot()"
   ]
  },
  {
   "cell_type": "code",
   "execution_count": 95,
   "metadata": {},
   "outputs": [],
   "source": [
    "from statsmodels.tsa.stattools import adfuller"
   ]
  },
  {
   "cell_type": "code",
   "execution_count": 96,
   "metadata": {},
   "outputs": [],
   "source": [
    "def ad_test(dataset):\n",
    "     dftest = adfuller(dataset, autolag = 'AIC')\n",
    "     print(\"1. ADF : \",dftest[0])\n",
    "     print(\"2. P-Value : \", dftest[1])\n",
    "     print(\"3. Num Of Lags : \", dftest[2])\n",
    "     print(\"4. Num Of Observations Used For ADF Regression:\",      dftest[3])\n",
    "     print(\"5. Critical Values :\")\n",
    "     for key, val in dftest[4].items():\n",
    "         print(\"\\t\",key, \": \", val)"
   ]
  },
  {
   "cell_type": "code",
   "execution_count": 97,
   "metadata": {},
   "outputs": [
    {
     "name": "stdout",
     "output_type": "stream",
     "text": [
      "1. ADF :  3.265049850521116\n",
      "2. P-Value :  1.0\n",
      "3. Num Of Lags :  0\n",
      "4. Num Of Observations Used For ADF Regression: 318\n",
      "5. Critical Values :\n",
      "\t 1% :  -3.451082300831733\n",
      "\t 5% :  -2.87067210822307\n",
      "\t 10% :  -2.5716355136268345\n"
     ]
    }
   ],
   "source": [
    "ad_test(df_confirmed_country)"
   ]
  },
  {
   "cell_type": "code",
   "execution_count": 98,
   "metadata": {},
   "outputs": [
    {
     "name": "stdout",
     "output_type": "stream",
     "text": [
      "Performing stepwise search to minimize aic\n",
      " ARIMA(2,2,2)(0,0,0)[0]             : AIC=272.315, Time=0.39 sec\n",
      " ARIMA(0,2,0)(0,0,0)[0]             : AIC=457.112, Time=0.02 sec\n",
      " ARIMA(1,2,0)(0,0,0)[0]             : AIC=383.413, Time=0.03 sec\n",
      " ARIMA(0,2,1)(0,0,0)[0]             : AIC=267.447, Time=0.08 sec\n",
      " ARIMA(1,2,1)(0,0,0)[0]             : AIC=268.828, Time=0.20 sec\n",
      " ARIMA(0,2,2)(0,0,0)[0]             : AIC=268.784, Time=0.19 sec\n",
      " ARIMA(1,2,2)(0,0,0)[0]             : AIC=270.433, Time=0.34 sec\n",
      " ARIMA(0,2,1)(0,0,0)[0] intercept   : AIC=268.434, Time=0.28 sec\n",
      "\n",
      "Best model:  ARIMA(0,2,1)(0,0,0)[0]          \n",
      "Total fit time: 1.548 seconds\n"
     ]
    }
   ],
   "source": [
    "stepwise_fit = auto_arima(df_confirmed_country, trace=True,\n",
    "suppress_warnings=True)"
   ]
  },
  {
   "cell_type": "code",
   "execution_count": 99,
   "metadata": {},
   "outputs": [],
   "source": [
    "from statsmodels.tsa.arima_model import ARIMA"
   ]
  },
  {
   "cell_type": "code",
   "execution_count": 100,
   "metadata": {},
   "outputs": [
    {
     "name": "stdout",
     "output_type": "stream",
     "text": [
      "(319, 1)\n",
      "(305, 1) (14, 1)\n"
     ]
    }
   ],
   "source": [
    "print(df_confirmed_country.shape)\n",
    "train = df_confirmed_country.iloc[:-14]\n",
    "test = df_confirmed_country.iloc[-14:]\n",
    "print(train.shape, test.shape)"
   ]
  },
  {
   "cell_type": "code",
   "execution_count": 101,
   "metadata": {},
   "outputs": [
    {
     "name": "stderr",
     "output_type": "stream",
     "text": [
      "/home/manil/anaconda3/lib/python3.7/site-packages/statsmodels/tsa/base/tsa_model.py:162: ValueWarning: No frequency information was provided, so inferred frequency D will be used.\n",
      "  % freq, ValueWarning)\n",
      "/home/manil/anaconda3/lib/python3.7/site-packages/statsmodels/tsa/base/tsa_model.py:162: ValueWarning: No frequency information was provided, so inferred frequency D will be used.\n",
      "  % freq, ValueWarning)\n"
     ]
    },
    {
     "data": {
      "text/html": [
       "<table class=\"simpletable\">\n",
       "<caption>ARIMA Model Results</caption>\n",
       "<tr>\n",
       "  <th>Dep. Variable:</th>   <td>D2.confirmed</td>   <th>  No. Observations:  </th>    <td>303</td>  \n",
       "</tr>\n",
       "<tr>\n",
       "  <th>Model:</th>          <td>ARIMA(0, 2, 2)</td>  <th>  Log Likelihood     </th> <td>-124.327</td>\n",
       "</tr>\n",
       "<tr>\n",
       "  <th>Method:</th>             <td>css-mle</td>     <th>  S.D. of innovations</th>   <td>0.361</td> \n",
       "</tr>\n",
       "<tr>\n",
       "  <th>Date:</th>          <td>Mon, 18 Jan 2021</td> <th>  AIC                </th>  <td>256.653</td>\n",
       "</tr>\n",
       "<tr>\n",
       "  <th>Time:</th>              <td>17:12:08</td>     <th>  BIC                </th>  <td>271.508</td>\n",
       "</tr>\n",
       "<tr>\n",
       "  <th>Sample:</th>           <td>01-24-2020</td>    <th>  HQIC               </th>  <td>262.596</td>\n",
       "</tr>\n",
       "<tr>\n",
       "  <th></th>                 <td>- 11-21-2020</td>   <th>                     </th>     <td> </td>   \n",
       "</tr>\n",
       "</table>\n",
       "<table class=\"simpletable\">\n",
       "<tr>\n",
       "           <td></td>             <th>coef</th>     <th>std err</th>      <th>z</th>      <th>P>|z|</th>  <th>[0.025</th>    <th>0.975]</th>  \n",
       "</tr>\n",
       "<tr>\n",
       "  <th>const</th>              <td>    0.0010</td> <td>    0.000</td> <td>    4.134</td> <td> 0.000</td> <td>    0.001</td> <td>    0.002</td>\n",
       "</tr>\n",
       "<tr>\n",
       "  <th>ma.L1.D2.confirmed</th> <td>   -0.9262</td> <td>    0.061</td> <td>  -15.189</td> <td> 0.000</td> <td>   -1.046</td> <td>   -0.807</td>\n",
       "</tr>\n",
       "<tr>\n",
       "  <th>ma.L2.D2.confirmed</th> <td>   -0.0738</td> <td>    0.058</td> <td>   -1.263</td> <td> 0.207</td> <td>   -0.188</td> <td>    0.041</td>\n",
       "</tr>\n",
       "</table>\n",
       "<table class=\"simpletable\">\n",
       "<caption>Roots</caption>\n",
       "<tr>\n",
       "    <td></td>   <th>            Real</th>  <th>         Imaginary</th> <th>         Modulus</th>  <th>        Frequency</th>\n",
       "</tr>\n",
       "<tr>\n",
       "  <th>MA.1</th> <td>           1.0000</td> <td>          +0.0000j</td> <td>           1.0000</td> <td>           0.0000</td>\n",
       "</tr>\n",
       "<tr>\n",
       "  <th>MA.2</th> <td>         -13.5522</td> <td>          +0.0000j</td> <td>          13.5522</td> <td>           0.5000</td>\n",
       "</tr>\n",
       "</table>"
      ],
      "text/plain": [
       "<class 'statsmodels.iolib.summary.Summary'>\n",
       "\"\"\"\n",
       "                             ARIMA Model Results                              \n",
       "==============================================================================\n",
       "Dep. Variable:           D2.confirmed   No. Observations:                  303\n",
       "Model:                 ARIMA(0, 2, 2)   Log Likelihood                -124.327\n",
       "Method:                       css-mle   S.D. of innovations              0.361\n",
       "Date:                Mon, 18 Jan 2021   AIC                            256.653\n",
       "Time:                        17:12:08   BIC                            271.508\n",
       "Sample:                    01-24-2020   HQIC                           262.596\n",
       "                         - 11-21-2020                                         \n",
       "======================================================================================\n",
       "                         coef    std err          z      P>|z|      [0.025      0.975]\n",
       "--------------------------------------------------------------------------------------\n",
       "const                  0.0010      0.000      4.134      0.000       0.001       0.002\n",
       "ma.L1.D2.confirmed    -0.9262      0.061    -15.189      0.000      -1.046      -0.807\n",
       "ma.L2.D2.confirmed    -0.0738      0.058     -1.263      0.207      -0.188       0.041\n",
       "                                    Roots                                    \n",
       "=============================================================================\n",
       "                  Real          Imaginary           Modulus         Frequency\n",
       "-----------------------------------------------------------------------------\n",
       "MA.1            1.0000           +0.0000j            1.0000            0.0000\n",
       "MA.2          -13.5522           +0.0000j           13.5522            0.5000\n",
       "-----------------------------------------------------------------------------\n",
       "\"\"\""
      ]
     },
     "execution_count": 101,
     "metadata": {},
     "output_type": "execute_result"
    }
   ],
   "source": [
    "model=ARIMA(train,order=(0,2,2))\n",
    "model=model.fit()\n",
    "model.summary()"
   ]
  },
  {
   "cell_type": "code",
   "execution_count": 102,
   "metadata": {},
   "outputs": [
    {
     "name": "stdout",
     "output_type": "stream",
     "text": [
      "2020-11-22    45.287687\n",
      "2020-11-23    45.597570\n",
      "2020-11-24    45.908501\n",
      "2020-11-25    46.220480\n",
      "2020-11-26    46.533506\n",
      "2020-11-27    46.847581\n",
      "2020-11-28    47.162703\n",
      "2020-11-29    47.478873\n",
      "2020-11-30    47.796091\n",
      "2020-12-01    48.114357\n",
      "2020-12-02    48.433671\n",
      "2020-12-03    48.754033\n",
      "2020-12-04    49.075442\n",
      "2020-12-05    49.397899\n",
      "Freq: D, Name: ARIMA Predictions, dtype: float64\n"
     ]
    },
    {
     "data": {
      "image/png": "[encoded data removed]",
      "text/plain": [
       "<Figure size 432x288 with 1 Axes>"
      ]
     },
     "metadata": {
      "needs_background": "light"
     },
     "output_type": "display_data"
    }
   ],
   "source": [
    "start=len(train)\n",
    "end=len(train)+len(test)-1\n",
    "pred=model.predict(start=start,end=end,typ='levels').rename('ARIMA Predictions')\n",
    "print(pred)\n",
    "plt.plot(test)\n",
    "plt.plot(pred)\n",
    "plt.legend([\"Test\",\"Predicted\"])\n",
    "plt.show()\n",
    "actual =pred"
   ]
  },
  {
   "cell_type": "code",
   "execution_count": 103,
   "metadata": {},
   "outputs": [],
   "source": [
    "from sklearn.metrics import mean_squared_error, r2_score\n",
    "y=test.mean()"
   ]
  },
  {
   "cell_type": "code",
   "execution_count": 104,
   "metadata": {},
   "outputs": [
    {
     "name": "stdout",
     "output_type": "stream",
     "text": [
      "1.7803892910991317\n"
     ]
    }
   ],
   "source": [
    "\n",
    "mse=mean_squared_error(pred,test)\n",
    "print(mse)"
   ]
  },
  {
   "cell_type": "code",
   "execution_count": 105,
   "metadata": {},
   "outputs": [
    {
     "data": {
      "text/plain": [
       "-0.09598477823992879"
      ]
     },
     "execution_count": 105,
     "metadata": {},
     "output_type": "execute_result"
    }
   ],
   "source": [
    "r2_score(pred, test)"
   ]
  },
  {
   "cell_type": "code",
   "execution_count": 106,
   "metadata": {},
   "outputs": [
    {
     "name": "stderr",
     "output_type": "stream",
     "text": [
      "/home/manil/anaconda3/lib/python3.7/site-packages/statsmodels/tsa/base/tsa_model.py:162: ValueWarning: No frequency information was provided, so inferred frequency D will be used.\n",
      "  % freq, ValueWarning)\n",
      "/home/manil/anaconda3/lib/python3.7/site-packages/statsmodels/tsa/base/tsa_model.py:162: ValueWarning: No frequency information was provided, so inferred frequency D will be used.\n",
      "  % freq, ValueWarning)\n"
     ]
    }
   ],
   "source": [
    "model2=ARIMA(df_confirmed_country,order=(0,2,2))\n",
    "model2=model2.fit()"
   ]
  },
  {
   "cell_type": "code",
   "execution_count": 107,
   "metadata": {},
   "outputs": [
    {
     "name": "stdout",
     "output_type": "stream",
     "text": [
      "2020-12-05    47.274296\n",
      "2020-12-06    47.569061\n",
      "2020-12-07    47.864735\n",
      "2020-12-08    48.161320\n",
      "2020-12-09    48.458814\n",
      "2020-12-10    48.757218\n",
      "2020-12-11    49.056532\n",
      "2020-12-12    49.356756\n",
      "Freq: D, Name: ARIMA Predictions, dtype: float64\n"
     ]
    }
   ],
   "source": [
    "index_future_dates=pd.date_range(start='2020-12-05',end='2020-12-12')\n",
    "#print(index_future_dates)\n",
    "pred=model2.predict(start=len(df_confirmed_country),end=len(df_confirmed_country)+7,typ='levels').rename('ARIMA Predictions')\n",
    "#print(comp_pred)\n",
    "pred.append(train)\n",
    "pred.index=index_future_dates\n",
    "print(pred)"
   ]
  },
  {
   "cell_type": "code",
   "execution_count": 108,
   "metadata": {},
   "outputs": [
    {
     "data": {
      "image/png": "[encoded data removed]",
      "text/plain": [
       "<Figure size 432x288 with 1 Axes>"
      ]
     },
     "metadata": {
      "needs_background": "light"
     },
     "output_type": "display_data"
    },
    {
     "data": {
      "text/plain": [
       "<Figure size 3600x864 with 0 Axes>"
      ]
     },
     "metadata": {},
     "output_type": "display_data"
    }
   ],
   "source": [
    "\n",
    "plt.plot(actual,label = actual)\n",
    "plt.plot(pred,label = pred)\n",
    "plt.legend([\"Actual\",\"Predicted\"])\n",
    "plt.figure(figsize=(50, 12))\n",
    "plt.show()"
   ]
  },
  {
   "cell_type": "code",
   "execution_count": 109,
   "metadata": {},
   "outputs": [
    {
     "name": "stdout",
     "output_type": "stream",
     "text": [
      "2020-11-22    45.287687\n",
      "2020-11-23    45.597570\n",
      "2020-11-24    45.908501\n",
      "2020-11-25    46.220480\n",
      "2020-11-26    46.533506\n",
      "2020-11-27    46.847581\n",
      "2020-11-28    47.162703\n",
      "2020-11-29    47.478873\n",
      "2020-11-30    47.796091\n",
      "2020-12-01    48.114357\n",
      "2020-12-02    48.433671\n",
      "2020-12-03    48.754033\n",
      "2020-12-04    49.075442\n",
      "2020-12-05    49.397899\n",
      "Freq: D, Name: ARIMA Predictions, dtype: float64\n"
     ]
    }
   ],
   "source": [
    "print(actual)"
   ]
  },
  {
   "cell_type": "code",
   "execution_count": 110,
   "metadata": {},
   "outputs": [
    {
     "name": "stdout",
     "output_type": "stream",
     "text": [
      "2020-12-05    47.274296\n",
      "2020-12-06    47.569061\n",
      "2020-12-07    47.864735\n",
      "2020-12-08    48.161320\n",
      "2020-12-09    48.458814\n",
      "2020-12-10    48.757218\n",
      "2020-12-11    49.056532\n",
      "2020-12-12    49.356756\n",
      "Freq: D, Name: ARIMA Predictions, dtype: float64\n"
     ]
    }
   ],
   "source": [
    "print(pred)"
   ]
  },
  {
   "cell_type": "code",
   "execution_count": null,
   "metadata": {},
   "outputs": [],
   "source": []
  }
 ],
 "metadata": {
  "kernelspec": {
   "display_name": "Python 3",
   "language": "python",
   "name": "python3"
  },
  "language_info": {
   "codemirror_mode": {
    "name": "ipython",
    "version": 3
   },
   "file_extension": ".py",
   "mimetype": "text/x-python",
   "name": "python",
   "nbconvert_exporter": "python",
   "pygments_lexer": "ipython3",
   "version": "3.7.6"
  }
 },
 "nbformat": 4,
 "nbformat_minor": 4
}
